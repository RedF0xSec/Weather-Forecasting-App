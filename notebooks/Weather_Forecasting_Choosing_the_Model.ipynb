{
 "cells": [
  {
   "cell_type": "code",
   "execution_count": 4,
   "metadata": {
    "colab": {
     "base_uri": "https://localhost:8080/"
    },
    "executionInfo": {
     "elapsed": 34366,
     "status": "ok",
     "timestamp": 1734703252550,
     "user": {
      "displayName": "ELENA FALCONE",
      "userId": "14742012211587439268"
     },
     "user_tz": -60
    },
    "id": "DZwiseeFhkjZ",
    "outputId": "e1f53dd3-653d-4491-ecf5-40e016a146df"
   },
   "outputs": [
    {
     "name": "stdout",
     "output_type": "stream",
     "text": [
      "Mounted at /content/drive\n"
     ]
    }
   ],
   "source": [
    "from google.colab import drive\n",
    "drive.mount('/content/drive')"
   ]
  },
  {
   "cell_type": "code",
   "execution_count": 4,
   "metadata": {
    "colab": {
     "base_uri": "https://localhost:8080/"
    },
    "executionInfo": {
     "elapsed": 771,
     "status": "ok",
     "timestamp": 1734705261205,
     "user": {
      "displayName": "ELENA FALCONE",
      "userId": "14742012211587439268"
     },
     "user_tz": -60
    },
    "id": "LjX77GcwL0Eg",
    "outputId": "7b08fa0e-eaa4-45ab-829d-0b2da65cb556"
   },
   "outputs": [
    {
     "name": "stdout",
     "output_type": "stream",
     "text": [
      "/content/drive\n"
     ]
    }
   ],
   "source": [
    "cd drive"
   ]
  },
  {
   "cell_type": "code",
   "execution_count": 5,
   "metadata": {
    "colab": {
     "base_uri": "https://localhost:8080/"
    },
    "executionInfo": {
     "elapsed": 401,
     "status": "ok",
     "timestamp": 1734705263146,
     "user": {
      "displayName": "ELENA FALCONE",
      "userId": "14742012211587439268"
     },
     "user_tz": -60
    },
    "id": "Nmv8ouG2L1ev",
    "outputId": "fdf9ba6b-affe-450c-83bb-a7e351cbba65"
   },
   "outputs": [
    {
     "name": "stdout",
     "output_type": "stream",
     "text": [
      "/content/drive/MyDrive\n"
     ]
    }
   ],
   "source": [
    "cd MyDrive"
   ]
  },
  {
   "cell_type": "code",
   "execution_count": 6,
   "metadata": {
    "colab": {
     "base_uri": "https://localhost:8080/"
    },
    "executionInfo": {
     "elapsed": 3,
     "status": "ok",
     "timestamp": 1734705263146,
     "user": {
      "displayName": "ELENA FALCONE",
      "userId": "14742012211587439268"
     },
     "user_tz": -60
    },
    "id": "i1R4HnBBL3tH",
    "outputId": "95e8764c-f723-4076-8792-eacb7280d587"
   },
   "outputs": [
    {
     "name": "stdout",
     "output_type": "stream",
     "text": [
      "/content/drive/MyDrive/WeatherPredictionProvaVecchia\n"
     ]
    }
   ],
   "source": [
    "cd WeatherForecastingApp/"
   ]
  },
  {
   "cell_type": "code",
   "execution_count": 7,
   "metadata": {
    "colab": {
     "base_uri": "https://localhost:8080/"
    },
    "executionInfo": {
     "elapsed": 3,
     "status": "ok",
     "timestamp": 1734705264523,
     "user": {
      "displayName": "ELENA FALCONE",
      "userId": "14742012211587439268"
     },
     "user_tz": -60
    },
    "id": "4_SsahNeL8t9",
    "outputId": "7cbd0f09-1817-4c83-8871-9a297d151163"
   },
   "outputs": [
    {
     "name": "stdout",
     "output_type": "stream",
     "text": [
      "/content/drive/MyDrive/WeatherPredictionProvaVecchia/notebooks\n"
     ]
    }
   ],
   "source": [
    "cd notebooks"
   ]
  },
  {
   "cell_type": "code",
   "execution_count": null,
   "metadata": {
    "id": "4Bdbjps1eOId"
   },
   "outputs": [],
   "source": [
    "!pip install catboost\n",
    "!pip install feature_engine\n",
    "!pip install \"dask[dataframe]\"\n",
    "!pip uninstall -y scikit-learn\n",
    "!pip install scikit-learn==1.3.2\n",
    "!pip install --upgrade threadpoolctl\n",
    "!pip list | grep scikit"
   ]
  },
  {
   "cell_type": "markdown",
   "metadata": {
    "id": "7jPX7uFr88pe"
   },
   "source": [
    "# Weather Forecasting App - Models Performance Study\n",
    "In this notebook, we **evaluate the performance** of **various classification model**s to identify the most suitable one for our pipeline. This evaluation is conducted using a structured pipeline approach, and the details of the model comparison are presented in a separate file for clarity. In the final pipeline, only the model that demonstrates the best performance will be included to ensure optimal results while maintaining simplicity and efficiency."
   ]
  },
  {
   "cell_type": "code",
   "execution_count": 2,
   "metadata": {
    "executionInfo": {
     "elapsed": 4683,
     "status": "ok",
     "timestamp": 1734705249495,
     "user": {
      "displayName": "ELENA FALCONE",
      "userId": "14742012211587439268"
     },
     "user_tz": -60
    },
    "id": "kWqZQcHy8wcZ"
   },
   "outputs": [],
   "source": [
    "import pandas as pd\n",
    "import numpy as np\n",
    "import matplotlib.pyplot as plt\n",
    "import seaborn as sns\n",
    "from sklearn.preprocessing import (\n",
    "    StandardScaler, \n",
    "    OneHotEncoder, \n",
    "    OrdinalEncoder, \n",
    "    LabelEncoder, \n",
    "    FunctionTransformer\n",
    ")\n",
    "from sklearn.impute import SimpleImputer, KNNImputer\n",
    "from sklearn.model_selection import (\n",
    "    train_test_split, \n",
    "    GridSearchCV, \n",
    "    RandomizedSearchCV, \n",
    "    StratifiedKFold\n",
    ")\n",
    "from sklearn.metrics import (\n",
    "    roc_auc_score, \n",
    "    precision_score, \n",
    "    recall_score, \n",
    "    confusion_matrix, \n",
    "    classification_report, \n",
    "    f1_score, \n",
    "    accuracy_score, \n",
    "    mutual_info_score,\n",
    "    precision_recall_curve, \n",
    "    auc\n",
    ")\n",
    "from sklearn.metrics import ConfusionMatrixDisplay\n",
    "from sklearn.ensemble import (\n",
    "    RandomForestClassifier, \n",
    "    GradientBoostingClassifier\n",
    ")\n",
    "from xgboost import XGBClassifier\n",
    "from lightgbm import LGBMClassifier\n",
    "from catboost import CatBoostClassifier\n",
    "from sklearn.tree import DecisionTreeClassifier, plot_tree\n",
    "from sklearn.linear_model import LogisticRegression\n",
    "from sklearn.naive_bayes import GaussianNB\n",
    "from sklearn.neighbors import KNeighborsClassifier\n",
    "from sklearn.neural_network import MLPClassifier\n",
    "from sklearn.datasets import make_classification\n",
    "from sklearn.preprocessing import label_binarize\n",
    "from sklearn.pipeline import make_pipeline, Pipeline\n",
    "from sklearn.compose import ColumnTransformer, make_column_selector\n",
    "from feature_engine.selection import DropFeatures\n",
    "from imblearn.pipeline import Pipeline as IMBPipeline\n",
    "from imblearn.over_sampling import SMOTE\n",
    "from imblearn.under_sampling import TomekLinks\n",
    "from imblearn.combine import SMOTETomek\n",
    "from joblib import dump, load\n",
    "from collections import Counter"
   ]
  },
  {
   "cell_type": "code",
   "execution_count": 8,
   "metadata": {
    "executionInfo": {
     "elapsed": 865,
     "status": "ok",
     "timestamp": 1734705267939,
     "user": {
      "displayName": "ELENA FALCONE",
      "userId": "14742012211587439268"
     },
     "user_tz": -60
    },
    "id": "gWjibSX5-HM8"
   },
   "outputs": [],
   "source": [
    "# load the data\n",
    "data = pd.read_csv('../data/seattle-weather-cleaned.csv')"
   ]
  },
  {
   "cell_type": "code",
   "execution_count": 9,
   "metadata": {
    "colab": {
     "base_uri": "https://localhost:8080/",
     "height": 272
    },
    "executionInfo": {
     "elapsed": 3,
     "status": "ok",
     "timestamp": 1734705268324,
     "user": {
      "displayName": "ELENA FALCONE",
      "userId": "14742012211587439268"
     },
     "user_tz": -60
    },
    "id": "47CSc8dR-b5E",
    "outputId": "8e78d529-c9fe-472d-ee09-15ed27a9e7fd"
   },
   "outputs": [
    {
     "data": {
      "text/html": [
       "<div>\n",
       "<style scoped>\n",
       "    .dataframe tbody tr th:only-of-type {\n",
       "        vertical-align: middle;\n",
       "    }\n",
       "\n",
       "    .dataframe tbody tr th {\n",
       "        vertical-align: top;\n",
       "    }\n",
       "\n",
       "    .dataframe thead th {\n",
       "        text-align: right;\n",
       "    }\n",
       "</style>\n",
       "<table border=\"1\" class=\"dataframe\">\n",
       "  <thead>\n",
       "    <tr style=\"text-align: right;\">\n",
       "      <th></th>\n",
       "      <th>count</th>\n",
       "    </tr>\n",
       "    <tr>\n",
       "      <th>weather</th>\n",
       "      <th></th>\n",
       "    </tr>\n",
       "  </thead>\n",
       "  <tbody>\n",
       "    <tr>\n",
       "      <th>sun</th>\n",
       "      <td>629</td>\n",
       "    </tr>\n",
       "    <tr>\n",
       "      <th>rain</th>\n",
       "      <td>417</td>\n",
       "    </tr>\n",
       "    <tr>\n",
       "      <th>fog</th>\n",
       "      <td>99</td>\n",
       "    </tr>\n",
       "    <tr>\n",
       "      <th>drizzle</th>\n",
       "      <td>53</td>\n",
       "    </tr>\n",
       "    <tr>\n",
       "      <th>snow</th>\n",
       "      <td>13</td>\n",
       "    </tr>\n",
       "  </tbody>\n",
       "</table>\n",
       "</div><br><label><b>dtype:</b> int64</label>"
      ],
      "text/plain": [
       "weather\n",
       "sun        629\n",
       "rain       417\n",
       "fog         99\n",
       "drizzle     53\n",
       "snow        13\n",
       "Name: count, dtype: int64"
      ]
     },
     "execution_count": 9,
     "metadata": {},
     "output_type": "execute_result"
    }
   ],
   "source": [
    "# check the target variable distribution\n",
    "data.weather.value_counts()"
   ]
  },
  {
   "cell_type": "code",
   "execution_count": 10,
   "metadata": {
    "colab": {
     "base_uri": "https://localhost:8080/"
    },
    "executionInfo": {
     "elapsed": 1027,
     "status": "ok",
     "timestamp": 1734705269965,
     "user": {
      "displayName": "ELENA FALCONE",
      "userId": "14742012211587439268"
     },
     "user_tz": -60
    },
    "id": "6XqBuGEzoZtq",
    "outputId": "7d60243e-74f7-4ad5-a175-e1052bf4c536"
   },
   "outputs": [
    {
     "name": "stdout",
     "output_type": "stream",
     "text": [
      "There are no missing values in the column date.\n",
      "There are no missing values in the column precipitation.\n",
      "There are no missing values in the column temp_max.\n",
      "There are no missing values in the column temp_min.\n",
      "There are no missing values in the column wind.\n",
      "There are no missing values in the column weather.\n"
     ]
    }
   ],
   "source": [
    "def check_missing_value(data):\n",
    "    columns = data.columns\n",
    "    for column in columns:\n",
    "      missing_values = data[column].isnull().sum()\n",
    "      if missing_values > 0:\n",
    "         print(f\"There are {missing_values} missing values in the column {column}.\")\n",
    "      else:\n",
    "         print(f\"There are no missing values in the column {column}.\")\n",
    "\n",
    "check_missing_value(data)"
   ]
  },
  {
   "cell_type": "code",
   "execution_count": 11,
   "metadata": {
    "executionInfo": {
     "elapsed": 2,
     "status": "ok",
     "timestamp": 1734705270484,
     "user": {
      "displayName": "ELENA FALCONE",
      "userId": "14742012211587439268"
     },
     "user_tz": -60
    },
    "id": "-SG6NgUKoib5"
   },
   "outputs": [],
   "source": [
    "def impute_median(data, var):\n",
    "    temp = data[data[var].notnull()]\n",
    "    temp = temp[[var, 'weather']].groupby(['weather'])[[var]].median()\n",
    "    for val in data['weather'].unique():\n",
    "        data.loc[(data['weather'] == val) & (data[var].isnull()), var] = temp.loc[val, var]\n",
    "    return data\n",
    "#%%\n",
    "# impute missing values\n",
    "data = impute_median(data, 'precipitation')\n",
    "data = impute_median(data, 'temp_max')\n",
    "data = impute_median(data, 'temp_min')\n",
    "data = impute_median(data, 'wind')"
   ]
  },
  {
   "cell_type": "code",
   "execution_count": 12,
   "metadata": {
    "colab": {
     "base_uri": "https://localhost:8080/",
     "height": 206
    },
    "executionInfo": {
     "elapsed": 713,
     "status": "ok",
     "timestamp": 1734705272083,
     "user": {
      "displayName": "ELENA FALCONE",
      "userId": "14742012211587439268"
     },
     "user_tz": -60
    },
    "id": "i1C8ZcRJ-_St",
    "outputId": "3422b9df-ecaa-4626-b0d7-e116ef2bb2dc"
   },
   "outputs": [
    {
     "data": {
      "application/vnd.google.colaboratory.intrinsic+json": {
       "summary": "{\n  \"name\": \"data\",\n  \"rows\": 1211,\n  \"fields\": [\n    {\n      \"column\": \"date\",\n      \"properties\": {\n        \"dtype\": \"object\",\n        \"num_unique_values\": 1211,\n        \"samples\": [\n          \"2012-05-20\",\n          \"2014-08-07\",\n          \"2015-01-01\"\n        ],\n        \"semantic_type\": \"\",\n        \"description\": \"\"\n      }\n    },\n    {\n      \"column\": \"precipitation\",\n      \"properties\": {\n        \"dtype\": \"number\",\n        \"std\": 1.5418585851128062,\n        \"min\": 0.0,\n        \"max\": 6.9,\n        \"num_unique_values\": 28,\n        \"samples\": [\n          4.8,\n          3.3,\n          6.1\n        ],\n        \"semantic_type\": \"\",\n        \"description\": \"\"\n      }\n    },\n    {\n      \"column\": \"temp_max\",\n      \"properties\": {\n        \"dtype\": \"number\",\n        \"std\": 7.549601585669268,\n        \"min\": -1.6,\n        \"max\": 35.6,\n        \"num_unique_values\": 65,\n        \"samples\": [\n          5.6,\n          -1.6,\n          12.8\n        ],\n        \"semantic_type\": \"\",\n        \"description\": \"\"\n      }\n    },\n    {\n      \"column\": \"temp_min\",\n      \"properties\": {\n        \"dtype\": \"number\",\n        \"std\": 5.182635473419717,\n        \"min\": -7.1,\n        \"max\": 18.3,\n        \"num_unique_values\": 54,\n        \"samples\": [\n          0.0,\n          -6.0,\n          -1.6\n        ],\n        \"semantic_type\": \"\",\n        \"description\": \"\"\n      }\n    },\n    {\n      \"column\": \"wind\",\n      \"properties\": {\n        \"dtype\": \"number\",\n        \"std\": 1.1408068857199432,\n        \"min\": 0.4,\n        \"max\": 6.1,\n        \"num_unique_values\": 58,\n        \"samples\": [\n          4.7,\n          3.4,\n          3.5\n        ],\n        \"semantic_type\": \"\",\n        \"description\": \"\"\n      }\n    },\n    {\n      \"column\": \"weather\",\n      \"properties\": {\n        \"dtype\": \"category\",\n        \"num_unique_values\": 5,\n        \"samples\": [\n          \"rain\",\n          \"fog\",\n          \"sun\"\n        ],\n        \"semantic_type\": \"\",\n        \"description\": \"\"\n      }\n    }\n  ]\n}",
       "type": "dataframe",
       "variable_name": "data"
      },
      "text/html": [
       "\n",
       "  <div id=\"df-3a1f05fd-963a-49c2-931e-160e979e4186\" class=\"colab-df-container\">\n",
       "    <div>\n",
       "<style scoped>\n",
       "    .dataframe tbody tr th:only-of-type {\n",
       "        vertical-align: middle;\n",
       "    }\n",
       "\n",
       "    .dataframe tbody tr th {\n",
       "        vertical-align: top;\n",
       "    }\n",
       "\n",
       "    .dataframe thead th {\n",
       "        text-align: right;\n",
       "    }\n",
       "</style>\n",
       "<table border=\"1\" class=\"dataframe\">\n",
       "  <thead>\n",
       "    <tr style=\"text-align: right;\">\n",
       "      <th></th>\n",
       "      <th>date</th>\n",
       "      <th>precipitation</th>\n",
       "      <th>temp_max</th>\n",
       "      <th>temp_min</th>\n",
       "      <th>wind</th>\n",
       "      <th>weather</th>\n",
       "    </tr>\n",
       "  </thead>\n",
       "  <tbody>\n",
       "    <tr>\n",
       "      <th>0</th>\n",
       "      <td>2012-01-01</td>\n",
       "      <td>0.0</td>\n",
       "      <td>12.8</td>\n",
       "      <td>5.0</td>\n",
       "      <td>4.7</td>\n",
       "      <td>drizzle</td>\n",
       "    </tr>\n",
       "    <tr>\n",
       "      <th>1</th>\n",
       "      <td>2012-01-03</td>\n",
       "      <td>0.8</td>\n",
       "      <td>11.7</td>\n",
       "      <td>7.2</td>\n",
       "      <td>2.3</td>\n",
       "      <td>rain</td>\n",
       "    </tr>\n",
       "    <tr>\n",
       "      <th>2</th>\n",
       "      <td>2012-01-05</td>\n",
       "      <td>1.3</td>\n",
       "      <td>8.9</td>\n",
       "      <td>2.8</td>\n",
       "      <td>6.1</td>\n",
       "      <td>rain</td>\n",
       "    </tr>\n",
       "    <tr>\n",
       "      <th>3</th>\n",
       "      <td>2012-01-06</td>\n",
       "      <td>2.5</td>\n",
       "      <td>4.4</td>\n",
       "      <td>2.2</td>\n",
       "      <td>2.2</td>\n",
       "      <td>rain</td>\n",
       "    </tr>\n",
       "    <tr>\n",
       "      <th>4</th>\n",
       "      <td>2012-01-07</td>\n",
       "      <td>0.0</td>\n",
       "      <td>7.2</td>\n",
       "      <td>2.8</td>\n",
       "      <td>2.3</td>\n",
       "      <td>rain</td>\n",
       "    </tr>\n",
       "  </tbody>\n",
       "</table>\n",
       "</div>\n",
       "    <div class=\"colab-df-buttons\">\n",
       "\n",
       "  <div class=\"colab-df-container\">\n",
       "    <button class=\"colab-df-convert\" onclick=\"convertToInteractive('df-3a1f05fd-963a-49c2-931e-160e979e4186')\"\n",
       "            title=\"Convert this dataframe to an interactive table.\"\n",
       "            style=\"display:none;\">\n",
       "\n",
       "  <svg xmlns=\"http://www.w3.org/2000/svg\" height=\"24px\" viewBox=\"0 -960 960 960\">\n",
       "    <path d=\"M120-120v-720h720v720H120Zm60-500h600v-160H180v160Zm220 220h160v-160H400v160Zm0 220h160v-160H400v160ZM180-400h160v-160H180v160Zm440 0h160v-160H620v160ZM180-180h160v-160H180v160Zm440 0h160v-160H620v160Z\"/>\n",
       "  </svg>\n",
       "    </button>\n",
       "\n",
       "  <style>\n",
       "    .colab-df-container {\n",
       "      display:flex;\n",
       "      gap: 12px;\n",
       "    }\n",
       "\n",
       "    .colab-df-convert {\n",
       "      background-color: #E8F0FE;\n",
       "      border: none;\n",
       "      border-radius: 50%;\n",
       "      cursor: pointer;\n",
       "      display: none;\n",
       "      fill: #1967D2;\n",
       "      height: 32px;\n",
       "      padding: 0 0 0 0;\n",
       "      width: 32px;\n",
       "    }\n",
       "\n",
       "    .colab-df-convert:hover {\n",
       "      background-color: #E2EBFA;\n",
       "      box-shadow: 0px 1px 2px rgba(60, 64, 67, 0.3), 0px 1px 3px 1px rgba(60, 64, 67, 0.15);\n",
       "      fill: #174EA6;\n",
       "    }\n",
       "\n",
       "    .colab-df-buttons div {\n",
       "      margin-bottom: 4px;\n",
       "    }\n",
       "\n",
       "    [theme=dark] .colab-df-convert {\n",
       "      background-color: #3B4455;\n",
       "      fill: #D2E3FC;\n",
       "    }\n",
       "\n",
       "    [theme=dark] .colab-df-convert:hover {\n",
       "      background-color: #434B5C;\n",
       "      box-shadow: 0px 1px 3px 1px rgba(0, 0, 0, 0.15);\n",
       "      filter: drop-shadow(0px 1px 2px rgba(0, 0, 0, 0.3));\n",
       "      fill: #FFFFFF;\n",
       "    }\n",
       "  </style>\n",
       "\n",
       "    <script>\n",
       "      const buttonEl =\n",
       "        document.querySelector('#df-3a1f05fd-963a-49c2-931e-160e979e4186 button.colab-df-convert');\n",
       "      buttonEl.style.display =\n",
       "        google.colab.kernel.accessAllowed ? 'block' : 'none';\n",
       "\n",
       "      async function convertToInteractive(key) {\n",
       "        const element = document.querySelector('#df-3a1f05fd-963a-49c2-931e-160e979e4186');\n",
       "        const dataTable =\n",
       "          await google.colab.kernel.invokeFunction('convertToInteractive',\n",
       "                                                    [key], {});\n",
       "        if (!dataTable) return;\n",
       "\n",
       "        const docLinkHtml = 'Like what you see? Visit the ' +\n",
       "          '<a target=\"_blank\" href=https://colab.research.google.com/notebooks/data_table.ipynb>data table notebook</a>'\n",
       "          + ' to learn more about interactive tables.';\n",
       "        element.innerHTML = '';\n",
       "        dataTable['output_type'] = 'display_data';\n",
       "        await google.colab.output.renderOutput(dataTable, element);\n",
       "        const docLink = document.createElement('div');\n",
       "        docLink.innerHTML = docLinkHtml;\n",
       "        element.appendChild(docLink);\n",
       "      }\n",
       "    </script>\n",
       "  </div>\n",
       "\n",
       "\n",
       "<div id=\"df-b47274e1-3b18-48a7-8629-72df37687862\">\n",
       "  <button class=\"colab-df-quickchart\" onclick=\"quickchart('df-b47274e1-3b18-48a7-8629-72df37687862')\"\n",
       "            title=\"Suggest charts\"\n",
       "            style=\"display:none;\">\n",
       "\n",
       "<svg xmlns=\"http://www.w3.org/2000/svg\" height=\"24px\"viewBox=\"0 0 24 24\"\n",
       "     width=\"24px\">\n",
       "    <g>\n",
       "        <path d=\"M19 3H5c-1.1 0-2 .9-2 2v14c0 1.1.9 2 2 2h14c1.1 0 2-.9 2-2V5c0-1.1-.9-2-2-2zM9 17H7v-7h2v7zm4 0h-2V7h2v10zm4 0h-2v-4h2v4z\"/>\n",
       "    </g>\n",
       "</svg>\n",
       "  </button>\n",
       "\n",
       "<style>\n",
       "  .colab-df-quickchart {\n",
       "      --bg-color: #E8F0FE;\n",
       "      --fill-color: #1967D2;\n",
       "      --hover-bg-color: #E2EBFA;\n",
       "      --hover-fill-color: #174EA6;\n",
       "      --disabled-fill-color: #AAA;\n",
       "      --disabled-bg-color: #DDD;\n",
       "  }\n",
       "\n",
       "  [theme=dark] .colab-df-quickchart {\n",
       "      --bg-color: #3B4455;\n",
       "      --fill-color: #D2E3FC;\n",
       "      --hover-bg-color: #434B5C;\n",
       "      --hover-fill-color: #FFFFFF;\n",
       "      --disabled-bg-color: #3B4455;\n",
       "      --disabled-fill-color: #666;\n",
       "  }\n",
       "\n",
       "  .colab-df-quickchart {\n",
       "    background-color: var(--bg-color);\n",
       "    border: none;\n",
       "    border-radius: 50%;\n",
       "    cursor: pointer;\n",
       "    display: none;\n",
       "    fill: var(--fill-color);\n",
       "    height: 32px;\n",
       "    padding: 0;\n",
       "    width: 32px;\n",
       "  }\n",
       "\n",
       "  .colab-df-quickchart:hover {\n",
       "    background-color: var(--hover-bg-color);\n",
       "    box-shadow: 0 1px 2px rgba(60, 64, 67, 0.3), 0 1px 3px 1px rgba(60, 64, 67, 0.15);\n",
       "    fill: var(--button-hover-fill-color);\n",
       "  }\n",
       "\n",
       "  .colab-df-quickchart-complete:disabled,\n",
       "  .colab-df-quickchart-complete:disabled:hover {\n",
       "    background-color: var(--disabled-bg-color);\n",
       "    fill: var(--disabled-fill-color);\n",
       "    box-shadow: none;\n",
       "  }\n",
       "\n",
       "  .colab-df-spinner {\n",
       "    border: 2px solid var(--fill-color);\n",
       "    border-color: transparent;\n",
       "    border-bottom-color: var(--fill-color);\n",
       "    animation:\n",
       "      spin 1s steps(1) infinite;\n",
       "  }\n",
       "\n",
       "  @keyframes spin {\n",
       "    0% {\n",
       "      border-color: transparent;\n",
       "      border-bottom-color: var(--fill-color);\n",
       "      border-left-color: var(--fill-color);\n",
       "    }\n",
       "    20% {\n",
       "      border-color: transparent;\n",
       "      border-left-color: var(--fill-color);\n",
       "      border-top-color: var(--fill-color);\n",
       "    }\n",
       "    30% {\n",
       "      border-color: transparent;\n",
       "      border-left-color: var(--fill-color);\n",
       "      border-top-color: var(--fill-color);\n",
       "      border-right-color: var(--fill-color);\n",
       "    }\n",
       "    40% {\n",
       "      border-color: transparent;\n",
       "      border-right-color: var(--fill-color);\n",
       "      border-top-color: var(--fill-color);\n",
       "    }\n",
       "    60% {\n",
       "      border-color: transparent;\n",
       "      border-right-color: var(--fill-color);\n",
       "    }\n",
       "    80% {\n",
       "      border-color: transparent;\n",
       "      border-right-color: var(--fill-color);\n",
       "      border-bottom-color: var(--fill-color);\n",
       "    }\n",
       "    90% {\n",
       "      border-color: transparent;\n",
       "      border-bottom-color: var(--fill-color);\n",
       "    }\n",
       "  }\n",
       "</style>\n",
       "\n",
       "  <script>\n",
       "    async function quickchart(key) {\n",
       "      const quickchartButtonEl =\n",
       "        document.querySelector('#' + key + ' button');\n",
       "      quickchartButtonEl.disabled = true;  // To prevent multiple clicks.\n",
       "      quickchartButtonEl.classList.add('colab-df-spinner');\n",
       "      try {\n",
       "        const charts = await google.colab.kernel.invokeFunction(\n",
       "            'suggestCharts', [key], {});\n",
       "      } catch (error) {\n",
       "        console.error('Error during call to suggestCharts:', error);\n",
       "      }\n",
       "      quickchartButtonEl.classList.remove('colab-df-spinner');\n",
       "      quickchartButtonEl.classList.add('colab-df-quickchart-complete');\n",
       "    }\n",
       "    (() => {\n",
       "      let quickchartButtonEl =\n",
       "        document.querySelector('#df-b47274e1-3b18-48a7-8629-72df37687862 button');\n",
       "      quickchartButtonEl.style.display =\n",
       "        google.colab.kernel.accessAllowed ? 'block' : 'none';\n",
       "    })();\n",
       "  </script>\n",
       "</div>\n",
       "\n",
       "    </div>\n",
       "  </div>\n"
      ],
      "text/plain": [
       "         date  precipitation  temp_max  temp_min  wind  weather\n",
       "0  2012-01-01            0.0      12.8       5.0   4.7  drizzle\n",
       "1  2012-01-03            0.8      11.7       7.2   2.3     rain\n",
       "2  2012-01-05            1.3       8.9       2.8   6.1     rain\n",
       "3  2012-01-06            2.5       4.4       2.2   2.2     rain\n",
       "4  2012-01-07            0.0       7.2       2.8   2.3     rain"
      ]
     },
     "execution_count": 12,
     "metadata": {},
     "output_type": "execute_result"
    }
   ],
   "source": [
    "# check the first few rows of the data\n",
    "data.head()"
   ]
  },
  {
   "cell_type": "code",
   "execution_count": 13,
   "metadata": {
    "colab": {
     "base_uri": "https://localhost:8080/"
    },
    "executionInfo": {
     "elapsed": 2,
     "status": "ok",
     "timestamp": 1734705273006,
     "user": {
      "displayName": "ELENA FALCONE",
      "userId": "14742012211587439268"
     },
     "user_tz": -60
    },
    "id": "3IUoX1SmbRUs",
    "outputId": "f8230a29-e21d-4e73-cbac-d180464c5c04"
   },
   "outputs": [
    {
     "name": "stdout",
     "output_type": "stream",
     "text": [
      "<class 'pandas.core.frame.DataFrame'>\n",
      "RangeIndex: 1211 entries, 0 to 1210\n",
      "Data columns (total 6 columns):\n",
      " #   Column         Non-Null Count  Dtype  \n",
      "---  ------         --------------  -----  \n",
      " 0   date           1211 non-null   object \n",
      " 1   precipitation  1211 non-null   float64\n",
      " 2   temp_max       1211 non-null   float64\n",
      " 3   temp_min       1211 non-null   float64\n",
      " 4   wind           1211 non-null   float64\n",
      " 5   weather        1211 non-null   object \n",
      "dtypes: float64(4), object(2)\n",
      "memory usage: 56.9+ KB\n"
     ]
    }
   ],
   "source": [
    "data.info()"
   ]
  },
  {
   "cell_type": "code",
   "execution_count": 14,
   "metadata": {
    "colab": {
     "base_uri": "https://localhost:8080/",
     "height": 300
    },
    "executionInfo": {
     "elapsed": 643,
     "status": "ok",
     "timestamp": 1734705275088,
     "user": {
      "displayName": "ELENA FALCONE",
      "userId": "14742012211587439268"
     },
     "user_tz": -60
    },
    "id": "dXDlUmjjbpYj",
    "outputId": "b74a52e1-5803-4b0d-a4f7-1589ea37f98d"
   },
   "outputs": [
    {
     "data": {
      "application/vnd.google.colaboratory.intrinsic+json": {
       "summary": "{\n  \"name\": \"data\",\n  \"rows\": 8,\n  \"fields\": [\n    {\n      \"column\": \"precipitation\",\n      \"properties\": {\n        \"dtype\": \"number\",\n        \"std\": 427.6692018244662,\n        \"min\": 0.0,\n        \"max\": 1211.0,\n        \"num_unique_values\": 6,\n        \"samples\": [\n          1211.0,\n          0.7635012386457473,\n          6.9\n        ],\n        \"semantic_type\": \"\",\n        \"description\": \"\"\n      }\n    },\n    {\n      \"column\": \"temp_max\",\n      \"properties\": {\n        \"dtype\": \"number\",\n        \"std\": 422.7200457985715,\n        \"min\": -1.6,\n        \"max\": 1211.0,\n        \"num_unique_values\": 8,\n        \"samples\": [\n          17.248802642444264,\n          17.2,\n          1211.0\n        ],\n        \"semantic_type\": \"\",\n        \"description\": \"\"\n      }\n    },\n    {\n      \"column\": \"temp_min\",\n      \"properties\": {\n        \"dtype\": \"number\",\n        \"std\": 425.64275991307755,\n        \"min\": -7.1,\n        \"max\": 1211.0,\n        \"num_unique_values\": 8,\n        \"samples\": [\n          8.468125516102395,\n          8.9,\n          1211.0\n        ],\n        \"semantic_type\": \"\",\n        \"description\": \"\"\n      }\n    },\n    {\n      \"column\": \"wind\",\n      \"properties\": {\n        \"dtype\": \"number\",\n        \"std\": 427.1884245317383,\n        \"min\": 0.4,\n        \"max\": 1211.0,\n        \"num_unique_values\": 8,\n        \"samples\": [\n          2.92840627580512,\n          2.8,\n          1211.0\n        ],\n        \"semantic_type\": \"\",\n        \"description\": \"\"\n      }\n    }\n  ]\n}",
       "type": "dataframe"
      },
      "text/html": [
       "\n",
       "  <div id=\"df-3d1cfd9c-b2b8-4d4c-b263-bcd53de4a37e\" class=\"colab-df-container\">\n",
       "    <div>\n",
       "<style scoped>\n",
       "    .dataframe tbody tr th:only-of-type {\n",
       "        vertical-align: middle;\n",
       "    }\n",
       "\n",
       "    .dataframe tbody tr th {\n",
       "        vertical-align: top;\n",
       "    }\n",
       "\n",
       "    .dataframe thead th {\n",
       "        text-align: right;\n",
       "    }\n",
       "</style>\n",
       "<table border=\"1\" class=\"dataframe\">\n",
       "  <thead>\n",
       "    <tr style=\"text-align: right;\">\n",
       "      <th></th>\n",
       "      <th>precipitation</th>\n",
       "      <th>temp_max</th>\n",
       "      <th>temp_min</th>\n",
       "      <th>wind</th>\n",
       "    </tr>\n",
       "  </thead>\n",
       "  <tbody>\n",
       "    <tr>\n",
       "      <th>count</th>\n",
       "      <td>1211.000000</td>\n",
       "      <td>1211.000000</td>\n",
       "      <td>1211.000000</td>\n",
       "      <td>1211.000000</td>\n",
       "    </tr>\n",
       "    <tr>\n",
       "      <th>mean</th>\n",
       "      <td>0.763501</td>\n",
       "      <td>17.248803</td>\n",
       "      <td>8.468126</td>\n",
       "      <td>2.928406</td>\n",
       "    </tr>\n",
       "    <tr>\n",
       "      <th>std</th>\n",
       "      <td>1.541859</td>\n",
       "      <td>7.549602</td>\n",
       "      <td>5.182635</td>\n",
       "      <td>1.140807</td>\n",
       "    </tr>\n",
       "    <tr>\n",
       "      <th>min</th>\n",
       "      <td>0.000000</td>\n",
       "      <td>-1.600000</td>\n",
       "      <td>-7.100000</td>\n",
       "      <td>0.400000</td>\n",
       "    </tr>\n",
       "    <tr>\n",
       "      <th>25%</th>\n",
       "      <td>0.000000</td>\n",
       "      <td>11.100000</td>\n",
       "      <td>4.400000</td>\n",
       "      <td>2.100000</td>\n",
       "    </tr>\n",
       "    <tr>\n",
       "      <th>50%</th>\n",
       "      <td>0.000000</td>\n",
       "      <td>17.200000</td>\n",
       "      <td>8.900000</td>\n",
       "      <td>2.800000</td>\n",
       "    </tr>\n",
       "    <tr>\n",
       "      <th>75%</th>\n",
       "      <td>0.500000</td>\n",
       "      <td>23.300000</td>\n",
       "      <td>12.800000</td>\n",
       "      <td>3.700000</td>\n",
       "    </tr>\n",
       "    <tr>\n",
       "      <th>max</th>\n",
       "      <td>6.900000</td>\n",
       "      <td>35.600000</td>\n",
       "      <td>18.300000</td>\n",
       "      <td>6.100000</td>\n",
       "    </tr>\n",
       "  </tbody>\n",
       "</table>\n",
       "</div>\n",
       "    <div class=\"colab-df-buttons\">\n",
       "\n",
       "  <div class=\"colab-df-container\">\n",
       "    <button class=\"colab-df-convert\" onclick=\"convertToInteractive('df-3d1cfd9c-b2b8-4d4c-b263-bcd53de4a37e')\"\n",
       "            title=\"Convert this dataframe to an interactive table.\"\n",
       "            style=\"display:none;\">\n",
       "\n",
       "  <svg xmlns=\"http://www.w3.org/2000/svg\" height=\"24px\" viewBox=\"0 -960 960 960\">\n",
       "    <path d=\"M120-120v-720h720v720H120Zm60-500h600v-160H180v160Zm220 220h160v-160H400v160Zm0 220h160v-160H400v160ZM180-400h160v-160H180v160Zm440 0h160v-160H620v160ZM180-180h160v-160H180v160Zm440 0h160v-160H620v160Z\"/>\n",
       "  </svg>\n",
       "    </button>\n",
       "\n",
       "  <style>\n",
       "    .colab-df-container {\n",
       "      display:flex;\n",
       "      gap: 12px;\n",
       "    }\n",
       "\n",
       "    .colab-df-convert {\n",
       "      background-color: #E8F0FE;\n",
       "      border: none;\n",
       "      border-radius: 50%;\n",
       "      cursor: pointer;\n",
       "      display: none;\n",
       "      fill: #1967D2;\n",
       "      height: 32px;\n",
       "      padding: 0 0 0 0;\n",
       "      width: 32px;\n",
       "    }\n",
       "\n",
       "    .colab-df-convert:hover {\n",
       "      background-color: #E2EBFA;\n",
       "      box-shadow: 0px 1px 2px rgba(60, 64, 67, 0.3), 0px 1px 3px 1px rgba(60, 64, 67, 0.15);\n",
       "      fill: #174EA6;\n",
       "    }\n",
       "\n",
       "    .colab-df-buttons div {\n",
       "      margin-bottom: 4px;\n",
       "    }\n",
       "\n",
       "    [theme=dark] .colab-df-convert {\n",
       "      background-color: #3B4455;\n",
       "      fill: #D2E3FC;\n",
       "    }\n",
       "\n",
       "    [theme=dark] .colab-df-convert:hover {\n",
       "      background-color: #434B5C;\n",
       "      box-shadow: 0px 1px 3px 1px rgba(0, 0, 0, 0.15);\n",
       "      filter: drop-shadow(0px 1px 2px rgba(0, 0, 0, 0.3));\n",
       "      fill: #FFFFFF;\n",
       "    }\n",
       "  </style>\n",
       "\n",
       "    <script>\n",
       "      const buttonEl =\n",
       "        document.querySelector('#df-3d1cfd9c-b2b8-4d4c-b263-bcd53de4a37e button.colab-df-convert');\n",
       "      buttonEl.style.display =\n",
       "        google.colab.kernel.accessAllowed ? 'block' : 'none';\n",
       "\n",
       "      async function convertToInteractive(key) {\n",
       "        const element = document.querySelector('#df-3d1cfd9c-b2b8-4d4c-b263-bcd53de4a37e');\n",
       "        const dataTable =\n",
       "          await google.colab.kernel.invokeFunction('convertToInteractive',\n",
       "                                                    [key], {});\n",
       "        if (!dataTable) return;\n",
       "\n",
       "        const docLinkHtml = 'Like what you see? Visit the ' +\n",
       "          '<a target=\"_blank\" href=https://colab.research.google.com/notebooks/data_table.ipynb>data table notebook</a>'\n",
       "          + ' to learn more about interactive tables.';\n",
       "        element.innerHTML = '';\n",
       "        dataTable['output_type'] = 'display_data';\n",
       "        await google.colab.output.renderOutput(dataTable, element);\n",
       "        const docLink = document.createElement('div');\n",
       "        docLink.innerHTML = docLinkHtml;\n",
       "        element.appendChild(docLink);\n",
       "      }\n",
       "    </script>\n",
       "  </div>\n",
       "\n",
       "\n",
       "<div id=\"df-5989fb7c-7084-4337-902a-c89f443f10c2\">\n",
       "  <button class=\"colab-df-quickchart\" onclick=\"quickchart('df-5989fb7c-7084-4337-902a-c89f443f10c2')\"\n",
       "            title=\"Suggest charts\"\n",
       "            style=\"display:none;\">\n",
       "\n",
       "<svg xmlns=\"http://www.w3.org/2000/svg\" height=\"24px\"viewBox=\"0 0 24 24\"\n",
       "     width=\"24px\">\n",
       "    <g>\n",
       "        <path d=\"M19 3H5c-1.1 0-2 .9-2 2v14c0 1.1.9 2 2 2h14c1.1 0 2-.9 2-2V5c0-1.1-.9-2-2-2zM9 17H7v-7h2v7zm4 0h-2V7h2v10zm4 0h-2v-4h2v4z\"/>\n",
       "    </g>\n",
       "</svg>\n",
       "  </button>\n",
       "\n",
       "<style>\n",
       "  .colab-df-quickchart {\n",
       "      --bg-color: #E8F0FE;\n",
       "      --fill-color: #1967D2;\n",
       "      --hover-bg-color: #E2EBFA;\n",
       "      --hover-fill-color: #174EA6;\n",
       "      --disabled-fill-color: #AAA;\n",
       "      --disabled-bg-color: #DDD;\n",
       "  }\n",
       "\n",
       "  [theme=dark] .colab-df-quickchart {\n",
       "      --bg-color: #3B4455;\n",
       "      --fill-color: #D2E3FC;\n",
       "      --hover-bg-color: #434B5C;\n",
       "      --hover-fill-color: #FFFFFF;\n",
       "      --disabled-bg-color: #3B4455;\n",
       "      --disabled-fill-color: #666;\n",
       "  }\n",
       "\n",
       "  .colab-df-quickchart {\n",
       "    background-color: var(--bg-color);\n",
       "    border: none;\n",
       "    border-radius: 50%;\n",
       "    cursor: pointer;\n",
       "    display: none;\n",
       "    fill: var(--fill-color);\n",
       "    height: 32px;\n",
       "    padding: 0;\n",
       "    width: 32px;\n",
       "  }\n",
       "\n",
       "  .colab-df-quickchart:hover {\n",
       "    background-color: var(--hover-bg-color);\n",
       "    box-shadow: 0 1px 2px rgba(60, 64, 67, 0.3), 0 1px 3px 1px rgba(60, 64, 67, 0.15);\n",
       "    fill: var(--button-hover-fill-color);\n",
       "  }\n",
       "\n",
       "  .colab-df-quickchart-complete:disabled,\n",
       "  .colab-df-quickchart-complete:disabled:hover {\n",
       "    background-color: var(--disabled-bg-color);\n",
       "    fill: var(--disabled-fill-color);\n",
       "    box-shadow: none;\n",
       "  }\n",
       "\n",
       "  .colab-df-spinner {\n",
       "    border: 2px solid var(--fill-color);\n",
       "    border-color: transparent;\n",
       "    border-bottom-color: var(--fill-color);\n",
       "    animation:\n",
       "      spin 1s steps(1) infinite;\n",
       "  }\n",
       "\n",
       "  @keyframes spin {\n",
       "    0% {\n",
       "      border-color: transparent;\n",
       "      border-bottom-color: var(--fill-color);\n",
       "      border-left-color: var(--fill-color);\n",
       "    }\n",
       "    20% {\n",
       "      border-color: transparent;\n",
       "      border-left-color: var(--fill-color);\n",
       "      border-top-color: var(--fill-color);\n",
       "    }\n",
       "    30% {\n",
       "      border-color: transparent;\n",
       "      border-left-color: var(--fill-color);\n",
       "      border-top-color: var(--fill-color);\n",
       "      border-right-color: var(--fill-color);\n",
       "    }\n",
       "    40% {\n",
       "      border-color: transparent;\n",
       "      border-right-color: var(--fill-color);\n",
       "      border-top-color: var(--fill-color);\n",
       "    }\n",
       "    60% {\n",
       "      border-color: transparent;\n",
       "      border-right-color: var(--fill-color);\n",
       "    }\n",
       "    80% {\n",
       "      border-color: transparent;\n",
       "      border-right-color: var(--fill-color);\n",
       "      border-bottom-color: var(--fill-color);\n",
       "    }\n",
       "    90% {\n",
       "      border-color: transparent;\n",
       "      border-bottom-color: var(--fill-color);\n",
       "    }\n",
       "  }\n",
       "</style>\n",
       "\n",
       "  <script>\n",
       "    async function quickchart(key) {\n",
       "      const quickchartButtonEl =\n",
       "        document.querySelector('#' + key + ' button');\n",
       "      quickchartButtonEl.disabled = true;  // To prevent multiple clicks.\n",
       "      quickchartButtonEl.classList.add('colab-df-spinner');\n",
       "      try {\n",
       "        const charts = await google.colab.kernel.invokeFunction(\n",
       "            'suggestCharts', [key], {});\n",
       "      } catch (error) {\n",
       "        console.error('Error during call to suggestCharts:', error);\n",
       "      }\n",
       "      quickchartButtonEl.classList.remove('colab-df-spinner');\n",
       "      quickchartButtonEl.classList.add('colab-df-quickchart-complete');\n",
       "    }\n",
       "    (() => {\n",
       "      let quickchartButtonEl =\n",
       "        document.querySelector('#df-5989fb7c-7084-4337-902a-c89f443f10c2 button');\n",
       "      quickchartButtonEl.style.display =\n",
       "        google.colab.kernel.accessAllowed ? 'block' : 'none';\n",
       "    })();\n",
       "  </script>\n",
       "</div>\n",
       "\n",
       "    </div>\n",
       "  </div>\n"
      ],
      "text/plain": [
       "       precipitation     temp_max     temp_min         wind\n",
       "count    1211.000000  1211.000000  1211.000000  1211.000000\n",
       "mean        0.763501    17.248803     8.468126     2.928406\n",
       "std         1.541859     7.549602     5.182635     1.140807\n",
       "min         0.000000    -1.600000    -7.100000     0.400000\n",
       "25%         0.000000    11.100000     4.400000     2.100000\n",
       "50%         0.000000    17.200000     8.900000     2.800000\n",
       "75%         0.500000    23.300000    12.800000     3.700000\n",
       "max         6.900000    35.600000    18.300000     6.100000"
      ]
     },
     "execution_count": 14,
     "metadata": {},
     "output_type": "execute_result"
    }
   ],
   "source": [
    "data.describe()"
   ]
  },
  {
   "cell_type": "code",
   "execution_count": 15,
   "metadata": {
    "executionInfo": {
     "elapsed": 2,
     "status": "ok",
     "timestamp": 1734705275901,
     "user": {
      "displayName": "ELENA FALCONE",
      "userId": "14742012211587439268"
     },
     "user_tz": -60
    },
    "id": "R7_31uFva70T"
   },
   "outputs": [],
   "source": [
    "# separating Day, Month and Year\n",
    "data['date'] = pd.to_datetime(data['date'])\n",
    "data['day'] = data['date'].dt.day\n",
    "data['month'] = data['date'].dt.month\n",
    "data['year'] = data['date'].dt.year"
   ]
  },
  {
   "cell_type": "code",
   "execution_count": 17,
   "metadata": {
    "colab": {
     "base_uri": "https://localhost:8080/"
    },
    "executionInfo": {
     "elapsed": 700,
     "status": "ok",
     "timestamp": 1734705279466,
     "user": {
      "displayName": "ELENA FALCONE",
      "userId": "14742012211587439268"
     },
     "user_tz": -60
    },
    "id": "sxrH-jN_IMA_",
    "outputId": "9a9a2ace-d22f-4c02-ad0e-15ea8e9b8d38"
   },
   "outputs": [
    {
     "name": "stdout",
     "output_type": "stream",
     "text": [
      "Any NaN values in X? False\n",
      "Any infinite values in X? False\n",
      "Class mapping:\n",
      "0: drizzle\n",
      "1: fog\n",
      "2: rain\n",
      "3: snow\n",
      "4: sun\n",
      "Any NaN values in y? False\n",
      "Any infinite values in y? False\n"
     ]
    }
   ],
   "source": [
    "# split the data into features and target\n",
    "y = data['weather']\n",
    "X = data.drop(['weather'], axis=1)\n",
    "\n",
    "# convert all data to numeric, coercing invalid values to NaN\n",
    "X = X.apply(pd.to_numeric, errors='coerce')\n",
    "\n",
    "# check for the presence of NaN or infinite values in the original data\n",
    "print(f\"Any NaN values in X? {np.any(np.isnan(X))}\")\n",
    "print(f\"Any infinite values in X? {np.any(np.isinf(X))}\")\n",
    "\n",
    "# encode the target column 'weather' into numeric values\n",
    "le = LabelEncoder()\n",
    "y = le.fit_transform(y)  # Encode all labels\n",
    "\n",
    "# print the mapping of classes\n",
    "print(\"Class mapping:\")\n",
    "for class_idx, class_label in enumerate(le.classes_):\n",
    "    print(f\"{class_idx}: {class_label}\")\n",
    "\n",
    "# check for the presence of NaN or infinite values in the target data after encoding\n",
    "print(f\"Any NaN values in y? {np.any(np.isnan(y))}\")\n",
    "print(f\"Any infinite values in y? {np.any(np.isinf(y))}\")\n",
    "\n",
    "# split the data into train and test sets\n",
    "# X_train, X_test, y_train, y_test = train_test_split(X, y, test_size=0.2, random_state=42)\n",
    "# use stratification to maintain the class distribution in both train and test sets\n",
    "X_train, X_test, y_train, y_test = train_test_split(\n",
    "    X, y, test_size=0.2, random_state=42, stratify=y\n",
    ")"
   ]
  },
  {
   "cell_type": "markdown",
   "metadata": {
    "id": "mhg-bxUwv8RU"
   },
   "source": [
    "## TRAINING OF VARIOUS CLASSIFICATION MODELS\n",
    "The training process involves the evaluation of **multiple classification models** to determine the **best performing one** for the given dataset. A systematic **pipeline** is utilized to preprocess data, address class imbalances, and fine-tune model parameters using techniques like SMOTE and TomekLinks. Several models, including RandomForest, XGBoost, LightGBM, CatBoost, and Logistic Regression, among others, are trained with their respective hyperparameter grids. The training employs **GridSearchCV to optimize parameters** and evaluate models based on **weighted F1-score**, ensuring robust performance."
   ]
  },
  {
   "cell_type": "code",
   "execution_count": 16,
   "metadata": {
    "colab": {
     "base_uri": "https://localhost:8080/",
     "height": 154
    },
    "executionInfo": {
     "elapsed": 3,
     "status": "ok",
     "timestamp": 1734705276320,
     "user": {
      "displayName": "ELENA FALCONE",
      "userId": "14742012211587439268"
     },
     "user_tz": -60
    },
    "id": "MA3H_IVsILRW",
    "outputId": "976d0e7a-09b3-458e-e7ab-ae4014d89bbf"
   },
   "outputs": [
    {
     "data": {
      "text/html": [
       "<style>#sk-container-id-1 {color: black;}#sk-container-id-1 pre{padding: 0;}#sk-container-id-1 div.sk-toggleable {background-color: white;}#sk-container-id-1 label.sk-toggleable__label {cursor: pointer;display: block;width: 100%;margin-bottom: 0;padding: 0.3em;box-sizing: border-box;text-align: center;}#sk-container-id-1 label.sk-toggleable__label-arrow:before {content: \"▸\";float: left;margin-right: 0.25em;color: #696969;}#sk-container-id-1 label.sk-toggleable__label-arrow:hover:before {color: black;}#sk-container-id-1 div.sk-estimator:hover label.sk-toggleable__label-arrow:before {color: black;}#sk-container-id-1 div.sk-toggleable__content {max-height: 0;max-width: 0;overflow: hidden;text-align: left;background-color: #f0f8ff;}#sk-container-id-1 div.sk-toggleable__content pre {margin: 0.2em;color: black;border-radius: 0.25em;background-color: #f0f8ff;}#sk-container-id-1 input.sk-toggleable__control:checked~div.sk-toggleable__content {max-height: 200px;max-width: 100%;overflow: auto;}#sk-container-id-1 input.sk-toggleable__control:checked~label.sk-toggleable__label-arrow:before {content: \"▾\";}#sk-container-id-1 div.sk-estimator input.sk-toggleable__control:checked~label.sk-toggleable__label {background-color: #d4ebff;}#sk-container-id-1 div.sk-label input.sk-toggleable__control:checked~label.sk-toggleable__label {background-color: #d4ebff;}#sk-container-id-1 input.sk-hidden--visually {border: 0;clip: rect(1px 1px 1px 1px);clip: rect(1px, 1px, 1px, 1px);height: 1px;margin: -1px;overflow: hidden;padding: 0;position: absolute;width: 1px;}#sk-container-id-1 div.sk-estimator {font-family: monospace;background-color: #f0f8ff;border: 1px dotted black;border-radius: 0.25em;box-sizing: border-box;margin-bottom: 0.5em;}#sk-container-id-1 div.sk-estimator:hover {background-color: #d4ebff;}#sk-container-id-1 div.sk-parallel-item::after {content: \"\";width: 100%;border-bottom: 1px solid gray;flex-grow: 1;}#sk-container-id-1 div.sk-label:hover label.sk-toggleable__label {background-color: #d4ebff;}#sk-container-id-1 div.sk-serial::before {content: \"\";position: absolute;border-left: 1px solid gray;box-sizing: border-box;top: 0;bottom: 0;left: 50%;z-index: 0;}#sk-container-id-1 div.sk-serial {display: flex;flex-direction: column;align-items: center;background-color: white;padding-right: 0.2em;padding-left: 0.2em;position: relative;}#sk-container-id-1 div.sk-item {position: relative;z-index: 1;}#sk-container-id-1 div.sk-parallel {display: flex;align-items: stretch;justify-content: center;background-color: white;position: relative;}#sk-container-id-1 div.sk-item::before, #sk-container-id-1 div.sk-parallel-item::before {content: \"\";position: absolute;border-left: 1px solid gray;box-sizing: border-box;top: 0;bottom: 0;left: 50%;z-index: -1;}#sk-container-id-1 div.sk-parallel-item {display: flex;flex-direction: column;z-index: 1;position: relative;background-color: white;}#sk-container-id-1 div.sk-parallel-item:first-child::after {align-self: flex-end;width: 50%;}#sk-container-id-1 div.sk-parallel-item:last-child::after {align-self: flex-start;width: 50%;}#sk-container-id-1 div.sk-parallel-item:only-child::after {width: 0;}#sk-container-id-1 div.sk-dashed-wrapped {border: 1px dashed gray;margin: 0 0.4em 0.5em 0.4em;box-sizing: border-box;padding-bottom: 0.4em;background-color: white;}#sk-container-id-1 div.sk-label label {font-family: monospace;font-weight: bold;display: inline-block;line-height: 1.2em;}#sk-container-id-1 div.sk-label-container {text-align: center;}#sk-container-id-1 div.sk-container {/* jupyter's `normalize.less` sets `[hidden] { display: none; }` but bootstrap.min.css set `[hidden] { display: none !important; }` so we also need the `!important` here to be able to override the default hidden behavior on the sphinx rendered scikit-learn.org. See: https://github.com/scikit-learn/scikit-learn/issues/21755 */display: inline-block !important;position: relative;}#sk-container-id-1 div.sk-text-repr-fallback {display: none;}</style><div id=\"sk-container-id-1\" class=\"sk-top-container\"><div class=\"sk-text-repr-fallback\"><pre>ColumnTransformer(remainder=&#x27;passthrough&#x27;, sparse_threshold=0,\n",
       "                  transformers=[(&#x27;precipitation&#x27;,\n",
       "                                 Pipeline(steps=[(&#x27;simpleimputer&#x27;,\n",
       "                                                  SimpleImputer(strategy=&#x27;median&#x27;)),\n",
       "                                                 (&#x27;standardscaler&#x27;,\n",
       "                                                  StandardScaler())]),\n",
       "                                 &lt;sklearn.compose._column_transformer.make_column_selector object at 0x7ebbf3805ba0&gt;),\n",
       "                                (&#x27;temp_max&#x27;,\n",
       "                                 Pipeline(steps=[(&#x27;simpleimputer&#x27;,\n",
       "                                                  SimpleImputer()),\n",
       "                                                 (&#x27;standar...\n",
       "                                                  OneHotEncoder(drop=&#x27;first&#x27;,\n",
       "                                                                handle_unknown=&#x27;ignore&#x27;))]),\n",
       "                                 &lt;sklearn.compose._column_transformer.make_column_selector object at 0x7ebbf3804580&gt;),\n",
       "                                (&#x27;year&#x27;,\n",
       "                                 Pipeline(steps=[(&#x27;simpleimputer&#x27;,\n",
       "                                                  SimpleImputer(strategy=&#x27;most_frequent&#x27;)),\n",
       "                                                 (&#x27;onehotencoder&#x27;,\n",
       "                                                  OneHotEncoder(drop=&#x27;first&#x27;,\n",
       "                                                                handle_unknown=&#x27;ignore&#x27;))]),\n",
       "                                 &lt;sklearn.compose._column_transformer.make_column_selector object at 0x7ebbf38064a0&gt;)])</pre><b>In a Jupyter environment, please rerun this cell to show the HTML representation or trust the notebook. <br />On GitHub, the HTML representation is unable to render, please try loading this page with nbviewer.org.</b></div><div class=\"sk-container\" hidden><div class=\"sk-item sk-dashed-wrapped\"><div class=\"sk-label-container\"><div class=\"sk-label sk-toggleable\"><input class=\"sk-toggleable__control sk-hidden--visually\" id=\"sk-estimator-id-1\" type=\"checkbox\" ><label for=\"sk-estimator-id-1\" class=\"sk-toggleable__label sk-toggleable__label-arrow\">ColumnTransformer</label><div class=\"sk-toggleable__content\"><pre>ColumnTransformer(remainder=&#x27;passthrough&#x27;, sparse_threshold=0,\n",
       "                  transformers=[(&#x27;precipitation&#x27;,\n",
       "                                 Pipeline(steps=[(&#x27;simpleimputer&#x27;,\n",
       "                                                  SimpleImputer(strategy=&#x27;median&#x27;)),\n",
       "                                                 (&#x27;standardscaler&#x27;,\n",
       "                                                  StandardScaler())]),\n",
       "                                 &lt;sklearn.compose._column_transformer.make_column_selector object at 0x7ebbf3805ba0&gt;),\n",
       "                                (&#x27;temp_max&#x27;,\n",
       "                                 Pipeline(steps=[(&#x27;simpleimputer&#x27;,\n",
       "                                                  SimpleImputer()),\n",
       "                                                 (&#x27;standar...\n",
       "                                                  OneHotEncoder(drop=&#x27;first&#x27;,\n",
       "                                                                handle_unknown=&#x27;ignore&#x27;))]),\n",
       "                                 &lt;sklearn.compose._column_transformer.make_column_selector object at 0x7ebbf3804580&gt;),\n",
       "                                (&#x27;year&#x27;,\n",
       "                                 Pipeline(steps=[(&#x27;simpleimputer&#x27;,\n",
       "                                                  SimpleImputer(strategy=&#x27;most_frequent&#x27;)),\n",
       "                                                 (&#x27;onehotencoder&#x27;,\n",
       "                                                  OneHotEncoder(drop=&#x27;first&#x27;,\n",
       "                                                                handle_unknown=&#x27;ignore&#x27;))]),\n",
       "                                 &lt;sklearn.compose._column_transformer.make_column_selector object at 0x7ebbf38064a0&gt;)])</pre></div></div></div><div class=\"sk-parallel\"><div class=\"sk-parallel-item\"><div class=\"sk-item\"><div class=\"sk-label-container\"><div class=\"sk-label sk-toggleable\"><input class=\"sk-toggleable__control sk-hidden--visually\" id=\"sk-estimator-id-2\" type=\"checkbox\" ><label for=\"sk-estimator-id-2\" class=\"sk-toggleable__label sk-toggleable__label-arrow\">precipitation</label><div class=\"sk-toggleable__content\"><pre>&lt;sklearn.compose._column_transformer.make_column_selector object at 0x7ebbf3805ba0&gt;</pre></div></div></div><div class=\"sk-serial\"><div class=\"sk-item\"><div class=\"sk-serial\"><div class=\"sk-item\"><div class=\"sk-estimator sk-toggleable\"><input class=\"sk-toggleable__control sk-hidden--visually\" id=\"sk-estimator-id-3\" type=\"checkbox\" ><label for=\"sk-estimator-id-3\" class=\"sk-toggleable__label sk-toggleable__label-arrow\">SimpleImputer</label><div class=\"sk-toggleable__content\"><pre>SimpleImputer(strategy=&#x27;median&#x27;)</pre></div></div></div><div class=\"sk-item\"><div class=\"sk-estimator sk-toggleable\"><input class=\"sk-toggleable__control sk-hidden--visually\" id=\"sk-estimator-id-4\" type=\"checkbox\" ><label for=\"sk-estimator-id-4\" class=\"sk-toggleable__label sk-toggleable__label-arrow\">StandardScaler</label><div class=\"sk-toggleable__content\"><pre>StandardScaler()</pre></div></div></div></div></div></div></div></div><div class=\"sk-parallel-item\"><div class=\"sk-item\"><div class=\"sk-label-container\"><div class=\"sk-label sk-toggleable\"><input class=\"sk-toggleable__control sk-hidden--visually\" id=\"sk-estimator-id-5\" type=\"checkbox\" ><label for=\"sk-estimator-id-5\" class=\"sk-toggleable__label sk-toggleable__label-arrow\">temp_max</label><div class=\"sk-toggleable__content\"><pre>&lt;sklearn.compose._column_transformer.make_column_selector object at 0x7ebbf3806530&gt;</pre></div></div></div><div class=\"sk-serial\"><div class=\"sk-item\"><div class=\"sk-serial\"><div class=\"sk-item\"><div class=\"sk-estimator sk-toggleable\"><input class=\"sk-toggleable__control sk-hidden--visually\" id=\"sk-estimator-id-6\" type=\"checkbox\" ><label for=\"sk-estimator-id-6\" class=\"sk-toggleable__label sk-toggleable__label-arrow\">SimpleImputer</label><div class=\"sk-toggleable__content\"><pre>SimpleImputer()</pre></div></div></div><div class=\"sk-item\"><div class=\"sk-estimator sk-toggleable\"><input class=\"sk-toggleable__control sk-hidden--visually\" id=\"sk-estimator-id-7\" type=\"checkbox\" ><label for=\"sk-estimator-id-7\" class=\"sk-toggleable__label sk-toggleable__label-arrow\">StandardScaler</label><div class=\"sk-toggleable__content\"><pre>StandardScaler()</pre></div></div></div></div></div></div></div></div><div class=\"sk-parallel-item\"><div class=\"sk-item\"><div class=\"sk-label-container\"><div class=\"sk-label sk-toggleable\"><input class=\"sk-toggleable__control sk-hidden--visually\" id=\"sk-estimator-id-8\" type=\"checkbox\" ><label for=\"sk-estimator-id-8\" class=\"sk-toggleable__label sk-toggleable__label-arrow\">temp_min</label><div class=\"sk-toggleable__content\"><pre>&lt;sklearn.compose._column_transformer.make_column_selector object at 0x7ebbf38054b0&gt;</pre></div></div></div><div class=\"sk-serial\"><div class=\"sk-item\"><div class=\"sk-serial\"><div class=\"sk-item\"><div class=\"sk-estimator sk-toggleable\"><input class=\"sk-toggleable__control sk-hidden--visually\" id=\"sk-estimator-id-9\" type=\"checkbox\" ><label for=\"sk-estimator-id-9\" class=\"sk-toggleable__label sk-toggleable__label-arrow\">SimpleImputer</label><div class=\"sk-toggleable__content\"><pre>SimpleImputer()</pre></div></div></div><div class=\"sk-item\"><div class=\"sk-estimator sk-toggleable\"><input class=\"sk-toggleable__control sk-hidden--visually\" id=\"sk-estimator-id-10\" type=\"checkbox\" ><label for=\"sk-estimator-id-10\" class=\"sk-toggleable__label sk-toggleable__label-arrow\">StandardScaler</label><div class=\"sk-toggleable__content\"><pre>StandardScaler()</pre></div></div></div></div></div></div></div></div><div class=\"sk-parallel-item\"><div class=\"sk-item\"><div class=\"sk-label-container\"><div class=\"sk-label sk-toggleable\"><input class=\"sk-toggleable__control sk-hidden--visually\" id=\"sk-estimator-id-11\" type=\"checkbox\" ><label for=\"sk-estimator-id-11\" class=\"sk-toggleable__label sk-toggleable__label-arrow\">wind</label><div class=\"sk-toggleable__content\"><pre>&lt;sklearn.compose._column_transformer.make_column_selector object at 0x7ebbf3805360&gt;</pre></div></div></div><div class=\"sk-serial\"><div class=\"sk-item\"><div class=\"sk-serial\"><div class=\"sk-item\"><div class=\"sk-estimator sk-toggleable\"><input class=\"sk-toggleable__control sk-hidden--visually\" id=\"sk-estimator-id-12\" type=\"checkbox\" ><label for=\"sk-estimator-id-12\" class=\"sk-toggleable__label sk-toggleable__label-arrow\">SimpleImputer</label><div class=\"sk-toggleable__content\"><pre>SimpleImputer()</pre></div></div></div><div class=\"sk-item\"><div class=\"sk-estimator sk-toggleable\"><input class=\"sk-toggleable__control sk-hidden--visually\" id=\"sk-estimator-id-13\" type=\"checkbox\" ><label for=\"sk-estimator-id-13\" class=\"sk-toggleable__label sk-toggleable__label-arrow\">StandardScaler</label><div class=\"sk-toggleable__content\"><pre>StandardScaler()</pre></div></div></div></div></div></div></div></div><div class=\"sk-parallel-item\"><div class=\"sk-item\"><div class=\"sk-label-container\"><div class=\"sk-label sk-toggleable\"><input class=\"sk-toggleable__control sk-hidden--visually\" id=\"sk-estimator-id-14\" type=\"checkbox\" ><label for=\"sk-estimator-id-14\" class=\"sk-toggleable__label sk-toggleable__label-arrow\">day</label><div class=\"sk-toggleable__content\"><pre>&lt;sklearn.compose._column_transformer.make_column_selector object at 0x7ebbf3805240&gt;</pre></div></div></div><div class=\"sk-serial\"><div class=\"sk-item\"><div class=\"sk-serial\"><div class=\"sk-item\"><div class=\"sk-estimator sk-toggleable\"><input class=\"sk-toggleable__control sk-hidden--visually\" id=\"sk-estimator-id-15\" type=\"checkbox\" ><label for=\"sk-estimator-id-15\" class=\"sk-toggleable__label sk-toggleable__label-arrow\">SimpleImputer</label><div class=\"sk-toggleable__content\"><pre>SimpleImputer(strategy=&#x27;most_frequent&#x27;)</pre></div></div></div><div class=\"sk-item\"><div class=\"sk-estimator sk-toggleable\"><input class=\"sk-toggleable__control sk-hidden--visually\" id=\"sk-estimator-id-16\" type=\"checkbox\" ><label for=\"sk-estimator-id-16\" class=\"sk-toggleable__label sk-toggleable__label-arrow\">OneHotEncoder</label><div class=\"sk-toggleable__content\"><pre>OneHotEncoder(drop=&#x27;first&#x27;, handle_unknown=&#x27;ignore&#x27;)</pre></div></div></div></div></div></div></div></div><div class=\"sk-parallel-item\"><div class=\"sk-item\"><div class=\"sk-label-container\"><div class=\"sk-label sk-toggleable\"><input class=\"sk-toggleable__control sk-hidden--visually\" id=\"sk-estimator-id-17\" type=\"checkbox\" ><label for=\"sk-estimator-id-17\" class=\"sk-toggleable__label sk-toggleable__label-arrow\">month</label><div class=\"sk-toggleable__content\"><pre>&lt;sklearn.compose._column_transformer.make_column_selector object at 0x7ebbf3804580&gt;</pre></div></div></div><div class=\"sk-serial\"><div class=\"sk-item\"><div class=\"sk-serial\"><div class=\"sk-item\"><div class=\"sk-estimator sk-toggleable\"><input class=\"sk-toggleable__control sk-hidden--visually\" id=\"sk-estimator-id-18\" type=\"checkbox\" ><label for=\"sk-estimator-id-18\" class=\"sk-toggleable__label sk-toggleable__label-arrow\">SimpleImputer</label><div class=\"sk-toggleable__content\"><pre>SimpleImputer(strategy=&#x27;most_frequent&#x27;)</pre></div></div></div><div class=\"sk-item\"><div class=\"sk-estimator sk-toggleable\"><input class=\"sk-toggleable__control sk-hidden--visually\" id=\"sk-estimator-id-19\" type=\"checkbox\" ><label for=\"sk-estimator-id-19\" class=\"sk-toggleable__label sk-toggleable__label-arrow\">OneHotEncoder</label><div class=\"sk-toggleable__content\"><pre>OneHotEncoder(drop=&#x27;first&#x27;, handle_unknown=&#x27;ignore&#x27;)</pre></div></div></div></div></div></div></div></div><div class=\"sk-parallel-item\"><div class=\"sk-item\"><div class=\"sk-label-container\"><div class=\"sk-label sk-toggleable\"><input class=\"sk-toggleable__control sk-hidden--visually\" id=\"sk-estimator-id-20\" type=\"checkbox\" ><label for=\"sk-estimator-id-20\" class=\"sk-toggleable__label sk-toggleable__label-arrow\">year</label><div class=\"sk-toggleable__content\"><pre>&lt;sklearn.compose._column_transformer.make_column_selector object at 0x7ebbf38064a0&gt;</pre></div></div></div><div class=\"sk-serial\"><div class=\"sk-item\"><div class=\"sk-serial\"><div class=\"sk-item\"><div class=\"sk-estimator sk-toggleable\"><input class=\"sk-toggleable__control sk-hidden--visually\" id=\"sk-estimator-id-21\" type=\"checkbox\" ><label for=\"sk-estimator-id-21\" class=\"sk-toggleable__label sk-toggleable__label-arrow\">SimpleImputer</label><div class=\"sk-toggleable__content\"><pre>SimpleImputer(strategy=&#x27;most_frequent&#x27;)</pre></div></div></div><div class=\"sk-item\"><div class=\"sk-estimator sk-toggleable\"><input class=\"sk-toggleable__control sk-hidden--visually\" id=\"sk-estimator-id-22\" type=\"checkbox\" ><label for=\"sk-estimator-id-22\" class=\"sk-toggleable__label sk-toggleable__label-arrow\">OneHotEncoder</label><div class=\"sk-toggleable__content\"><pre>OneHotEncoder(drop=&#x27;first&#x27;, handle_unknown=&#x27;ignore&#x27;)</pre></div></div></div></div></div></div></div></div><div class=\"sk-parallel-item\"><div class=\"sk-item\"><div class=\"sk-label-container\"><div class=\"sk-label sk-toggleable\"><input class=\"sk-toggleable__control sk-hidden--visually\" id=\"sk-estimator-id-23\" type=\"checkbox\" ><label for=\"sk-estimator-id-23\" class=\"sk-toggleable__label sk-toggleable__label-arrow\">remainder</label><div class=\"sk-toggleable__content\"><pre></pre></div></div></div><div class=\"sk-serial\"><div class=\"sk-item\"><div class=\"sk-estimator sk-toggleable\"><input class=\"sk-toggleable__control sk-hidden--visually\" id=\"sk-estimator-id-24\" type=\"checkbox\" ><label for=\"sk-estimator-id-24\" class=\"sk-toggleable__label sk-toggleable__label-arrow\">passthrough</label><div class=\"sk-toggleable__content\"><pre>passthrough</pre></div></div></div></div></div></div></div></div></div></div>"
      ],
      "text/plain": [
       "ColumnTransformer(remainder='passthrough', sparse_threshold=0,\n",
       "                  transformers=[('precipitation',\n",
       "                                 Pipeline(steps=[('simpleimputer',\n",
       "                                                  SimpleImputer(strategy='median')),\n",
       "                                                 ('standardscaler',\n",
       "                                                  StandardScaler())]),\n",
       "                                 <sklearn.compose._column_transformer.make_column_selector object at 0x7ebbf3805ba0>),\n",
       "                                ('temp_max',\n",
       "                                 Pipeline(steps=[('simpleimputer',\n",
       "                                                  SimpleImputer()),\n",
       "                                                 ('standar...\n",
       "                                                  OneHotEncoder(drop='first',\n",
       "                                                                handle_unknown='ignore'))]),\n",
       "                                 <sklearn.compose._column_transformer.make_column_selector object at 0x7ebbf3804580>),\n",
       "                                ('year',\n",
       "                                 Pipeline(steps=[('simpleimputer',\n",
       "                                                  SimpleImputer(strategy='most_frequent')),\n",
       "                                                 ('onehotencoder',\n",
       "                                                  OneHotEncoder(drop='first',\n",
       "                                                                handle_unknown='ignore'))]),\n",
       "                                 <sklearn.compose._column_transformer.make_column_selector object at 0x7ebbf38064a0>)])"
      ]
     },
     "execution_count": 16,
     "metadata": {},
     "output_type": "execute_result"
    }
   ],
   "source": [
    "# define the columns transformer\n",
    "transformer = ColumnTransformer([\n",
    "\t# Step 1: apply steps for real features\n",
    "\t('precipitation', make_pipeline(\n",
    "\t\tSimpleImputer(missing_values=np.nan, strategy='median'),\n",
    "\t\t#KNNImputer(n_neighbors=5),\n",
    "\t\tStandardScaler()),\n",
    "\t  make_column_selector(pattern='precipitation')\n",
    "\t ),\n",
    "\t# Step 2: apply steps for real features\n",
    "\t('temp_max', make_pipeline(\n",
    "\t\tSimpleImputer(missing_values=np.nan, strategy='mean'),\n",
    "\t\t#KNNImputer(n_neighbors=5),\n",
    "\t\tStandardScaler()),\n",
    "\t  make_column_selector(pattern='temp_max')\n",
    "\t ),\n",
    "\t# Step 2: apply steps for real features\n",
    "\t('temp_min', make_pipeline(\n",
    "\t\tSimpleImputer(missing_values=np.nan, strategy='mean'),\n",
    "\t\t#KNNImputer(n_neighbors=5),\n",
    "\t\tStandardScaler()),\n",
    "\t  make_column_selector(pattern='temp_min')\n",
    "\t ),\n",
    "\t# Step 2: apply steps for real features\n",
    "\t('wind', make_pipeline(\n",
    "\t\tSimpleImputer(missing_values=np.nan, strategy='mean'),\n",
    "\t\t#KNNImputer(n_neighbors=5),\n",
    "\t\tStandardScaler()),\n",
    "\t  make_column_selector(pattern='wind')\n",
    "\t ),\n",
    "\t# Step 2: apply steps for categorical features\n",
    "\t('day', make_pipeline(\n",
    "\t\tSimpleImputer(strategy='most_frequent'),\n",
    "\t\tOneHotEncoder(categories='auto', drop='first', handle_unknown='ignore')),\n",
    "\t  make_column_selector(dtype_include='category')\n",
    "\t ),\n",
    "\t('month', make_pipeline(\n",
    "\t\tSimpleImputer(strategy='most_frequent'),\n",
    "\t\tOneHotEncoder(categories='auto', drop='first', handle_unknown='ignore')),\n",
    "\t  make_column_selector(dtype_include='category')\n",
    "\t ),\n",
    "\t('year', make_pipeline(\n",
    "\t\tSimpleImputer(strategy='most_frequent'),\n",
    "\t\tOneHotEncoder(categories='auto', drop='first', handle_unknown='ignore')),\n",
    "\t  make_column_selector(dtype_include='category')\n",
    "\t )\n",
    " ],\n",
    "\n",
    "\tremainder='passthrough',\n",
    "\tverbose_feature_names_out=True,\n",
    "\tsparse_threshold=0\n",
    ")\n",
    "transformer"
   ]
  },
  {
   "cell_type": "code",
   "execution_count": null,
   "metadata": {
    "id": "6nlCJ1zsMQf8"
   },
   "outputs": [],
   "source": [
    "# define the general pipeline\n",
    "base_pipeline = IMBPipeline(steps=[\n",
    "    ('drop_columns', FunctionTransformer(lambda X: X.drop(columns=['month', 'day', 'year'], errors='ignore'))),\n",
    "    ('transformer', transformer),\n",
    "    ('smote', SMOTE(random_state=42)),\n",
    "    ('tomek', TomekLinks()),\n",
    "    ('classifier', None)  # Classifier placeholder\n",
    "])"
   ]
  },
  {
   "cell_type": "code",
   "execution_count": null,
   "metadata": {
    "id": "dK56aByFxc_U"
   },
   "outputs": [],
   "source": [
    "# list of models and respective parameters\n",
    "model_list = [\n",
    "    (\"RandomForest\", RandomForestClassifier(class_weight='balanced', random_state=42)),\n",
    "    (\"RandomForest\", RandomForestClassifier()),\n",
    "    (\"XGBoost\", XGBClassifier(scale_pos_weight=1, use_label_encoder=False, eval_metric='mlogloss', random_state=42)),\n",
    "    (\"LightGBM\",LGBMClassifier(class_weight='balanced', random_state=42, max_depth=10, min_child_samples=5, min_child_weight=1e-6, num_leaves=31, learning_rate=0.1, verbose=-1 )),\n",
    "    (\"CatBoost\", CatBoostClassifier(auto_class_weights='Balanced', silent=True, random_state=42)),\n",
    "    (\"MLP\", MLPClassifier(random_state=42, early_stopping=True, max_iter=500)),\n",
    "    (\"DecisionTree\", DecisionTreeClassifier(class_weight='balanced', random_state=42)),\n",
    "    (\"LogisticRegression\", LogisticRegression(class_weight='balanced', max_iter=1000, random_state=42)),\n",
    "    (\"KNeighbors\", KNeighborsClassifier())\n",
    "]\n",
    "\n",
    "model_params_grid = [\n",
    "    {   # RandomForest\n",
    "        'classifier__n_estimators': [100, 200],\n",
    "        'classifier__max_depth': [5, 10, 20, None],\n",
    "        'classifier__max_features': ['sqrt']\n",
    "    },\n",
    "    {   # RandomForest without class-weighting\n",
    "        'classifier__n_estimators': [100, 200],\n",
    "        'classifier__max_depth': [5, 10, 20, None],\n",
    "        'classifier__max_features': ['sqrt']\n",
    "    },\n",
    "    {   # XGBoost\n",
    "        'classifier__n_estimators': [100, 200],\n",
    "        'classifier__max_depth': [5, 10],\n",
    "        'classifier__learning_rate': [0.01, 0.1],\n",
    "        'classifier__scale_pos_weight': [10, 20, 30]  # Experiment with higher weights\n",
    "    },\n",
    "    {   # LightGBM\n",
    "        'classifier__n_estimators': [100, 200],\n",
    "        'classifier__max_depth': [5, 10, 20, -1],\n",
    "        'classifier__learning_rate': [0.01, 0.1],\n",
    "        'classifier__class_weight': ['balanced']\n",
    "    },\n",
    "    {   # CatBoost\n",
    "        'classifier__iterations': [100],\n",
    "        'classifier__depth': [3, 5],\n",
    "        'classifier__learning_rate': [0.01, 0.1],\n",
    "    },\n",
    "    {   # MLP\n",
    "        'classifier__hidden_layer_sizes': [(50,), (100,), (50, 50)],\n",
    "        'classifier__activation': ['relu', 'tanh'],\n",
    "        'classifier__alpha': [0.0001, 0.001],\n",
    "        'classifier__learning_rate_init': [0.001, 0.01]\n",
    "    },\n",
    "    {   # DecisionTree\n",
    "        'classifier__max_depth': [5, 10, 20, None],\n",
    "        'classifier__min_samples_split': [2, 5, 10]\n",
    "    },\n",
    "    {   # LogisticRegression\n",
    "        'classifier__C': [0.1, 1.0, 10.0],\n",
    "        'classifier__solver': ['lbfgs', 'liblinear']\n",
    "    },\n",
    "    {   # KNeighborsClassifier\n",
    "        'classifier__n_neighbors': [3, 5, 7],\n",
    "        'classifier__weights': ['uniform', 'distance']\n",
    "    }\n",
    "]"
   ]
  },
  {
   "cell_type": "code",
   "execution_count": null,
   "metadata": {
    "id": "Aq0tu6VExiws"
   },
   "outputs": [],
   "source": [
    "# execute GridSearchCV for each model\n",
    "best_models_gs = []\n",
    "for (model_name, model), hp in zip(model_list, model_params_grid):\n",
    "    print(f\"\\nRunning GridSearch for {model_name}...\")\n",
    "\n",
    "    try:\n",
    "        # Create a specific pipeline for the current model\n",
    "        pipeline = base_pipeline.set_params(classifier=model)\n",
    "\n",
    "        # Run GridSearchCV\n",
    "        grid = GridSearchCV(\n",
    "            estimator=pipeline,\n",
    "            param_grid=hp,\n",
    "            cv=5,\n",
    "            scoring='f1_weighted',\n",
    "            n_jobs=2,  # Limit to 2 parallel jobs\n",
    "            verbose=2\n",
    "        )\n",
    "\n",
    "\n",
    "        grid.fit(X_train, y_train)  # Train the model\n",
    "\n",
    "        # save the best results\n",
    "        print(f\"Model: {model_name}\")\n",
    "        print(f\"Best parameters: {grid.best_params_}\")\n",
    "        print(f\"Best score (F1-weighted): {grid.best_score_}\")\n",
    "        best_models_gs.append((model_name, grid.best_estimator_, grid.best_score_, grid.best_params_))\n",
    "    except Exception as e:\n",
    "        print(f\"Error during execution of {model_name}: {e}\")\n",
    "\n",
    "# select the best model\n",
    "hof_model_gs = max(best_models_gs, key=lambda item: item[2])\n",
    "print(f\"\\nBest model: {hof_model_gs[0]}\")\n",
    "print(f\"Best parameters: {hof_model_gs[3]}\")\n",
    "\n",
    "# evaluate the best model\n",
    "best_model = hof_model_gs[1]\n",
    "y_pred_test = best_model.predict(X_test)\n",
    "print(\"\\nClassification report on the test set:\")\n",
    "print(classification_report(y_test, y_pred_test))\n"
   ]
  },
  {
   "cell_type": "code",
   "execution_count": 59,
   "metadata": {
    "colab": {
     "base_uri": "https://localhost:8080/",
     "height": 718
    },
    "executionInfo": {
     "elapsed": 1804,
     "status": "ok",
     "timestamp": 1734709397623,
     "user": {
      "displayName": "ELENA FALCONE",
      "userId": "14742012211587439268"
     },
     "user_tz": -60
    },
    "id": "6_LQhPG3N6yN",
    "outputId": "9d3fff62-83f5-4829-ad91-d9a48364e84f"
   },
   "outputs": [
    {
     "data": {
      "image/png": "[encoded data removed]",
      "text/plain": [
       "<Figure size 1000x800 with 1 Axes>"
      ]
     },
     "metadata": {},
     "output_type": "display_data"
    }
   ],
   "source": [
    "# compute predicted probabilities for each class\n",
    "y_scores = best_model.predict_proba(X_test)\n",
    "\n",
    "# transform the labels into a binarized format (one-vs-all)\n",
    "y_test_bin = label_binarize(y_test, classes=np.unique(y))\n",
    "\n",
    "# calculate Precision-Recall for each class\n",
    "plt.figure(figsize=(10, 8))\n",
    "for i, class_label in enumerate(np.unique(y)):\n",
    "    precision, recall, thresholds = precision_recall_curve(y_test_bin[:, i], y_scores[:, i])\n",
    "    pr_auc = auc(recall, precision)\n",
    "    plt.plot(recall, precision, label=f'Class {class_label} (AUC = {pr_auc:.2f})')\n",
    "\n",
    "# display the plot\n",
    "plt.xlabel('Recall')\n",
    "plt.ylabel('Precision')\n",
    "plt.title('Precision-Recall Curve for Each Class')\n",
    "plt.legend()\n",
    "plt.grid()\n",
    "plt.show()"
   ]
  },
  {
   "cell_type": "markdown",
   "metadata": {
    "id": "WL38riroySaW"
   },
   "source": [
    "# TRIAL\n"
   ]
  },
  {
   "cell_type": "code",
   "execution_count": 61,
   "metadata": {
    "colab": {
     "base_uri": "https://localhost:8080/"
    },
    "executionInfo": {
     "elapsed": 106871,
     "status": "ok",
     "timestamp": 1734710678917,
     "user": {
      "displayName": "ELENA FALCONE",
      "userId": "14742012211587439268"
     },
     "user_tz": -60
    },
    "id": "vqJHGudMiSWr",
    "outputId": "50de15ec-0796-4348-d3cb-efa838d879ba"
   },
   "outputs": [
    {
     "name": "stdout",
     "output_type": "stream",
     "text": [
      "Original class distribution: Counter({4: 503, 2: 333, 1: 79, 0: 42, 3: 11})\n",
      "Training XGBoost model with pipeline...\n",
      "Fitting 5 folds for each of 32 candidates, totalling 160 fits\n",
      "\n",
      "Best Parameters for XGBoost:\n",
      "{'classifier__colsample_bytree': 0.7, 'classifier__learning_rate': 0.05, 'classifier__max_depth': 10, 'classifier__n_estimators': 100, 'classifier__subsample': 0.9}\n",
      "\n",
      "Best F1-Weighted Score:\n",
      "0.7772190591166876\n",
      "\n",
      "Classification Report on Test Set:\n",
      "              precision    recall  f1-score   support\n",
      "\n",
      "           0       0.24      0.64      0.35        11\n",
      "           1       0.35      0.60      0.44        20\n",
      "           2       0.95      0.88      0.91        84\n",
      "           3       0.50      0.50      0.50         2\n",
      "           4       0.88      0.70      0.78       126\n",
      "\n",
      "    accuracy                           0.75       243\n",
      "   macro avg       0.58      0.66      0.60       243\n",
      "weighted avg       0.83      0.75      0.78       243\n",
      "\n"
     ]
    }
   ],
   "source": [
    "# inspect original class distribution\n",
    "class_counts = Counter(y_train)\n",
    "print(\"Original class distribution:\", class_counts)\n",
    "\n",
    "# create a valid sampling strategy\n",
    "target_samples = max(class_counts.values())  # Target to match the majority class\n",
    "sampling_strategy = {cls: max(count, target_samples) for cls, count in class_counts.items()}\n",
    "\n",
    "# apply SMOTE with the valid sampling strategy\n",
    "smote = SMOTE(sampling_strategy=sampling_strategy, random_state=42)\n",
    "\n",
    "xgb_pipeline = IMBPipeline(steps=[\n",
    "    ('drop_columns', FunctionTransformer(lambda X: X.drop(columns=['month', 'day', 'year'], errors='ignore'))),\n",
    "    ('transformer', transformer),\n",
    "    ('smote', smote),  # Oversample minority classes\n",
    "    ('tomek', TomekLinks()),  # Clean noisy majority class samples\n",
    "    ('classifier', XGBClassifier(eval_metric='mlogloss', random_state=42))\n",
    "])\n",
    "\n",
    "# define the parameter grid (removed scale_pos_weight)\n",
    "xgb_param_grid = {\n",
    "    'classifier__learning_rate': [0.01, 0.05],\n",
    "    'classifier__max_depth': [10, 12],\n",
    "    'classifier__n_estimators': [100, 200],\n",
    "    'classifier__subsample': [0.8, 0.9],\n",
    "    'classifier__colsample_bytree': [0.7, 0.8],\n",
    "}\n",
    "\n",
    "# stratifiedKFold\n",
    "stratified_kfold = StratifiedKFold(n_splits=5, shuffle=True, random_state=42)\n",
    "\n",
    "# gridSearchCV\n",
    "xgb_grid = GridSearchCV(\n",
    "    estimator=xgb_pipeline,\n",
    "    param_grid=xgb_param_grid,\n",
    "    cv=stratified_kfold,\n",
    "    scoring='f1_weighted',\n",
    "    n_jobs=2,  # Use parallel jobs\n",
    "    verbose=2\n",
    ")\n",
    "\n",
    "# fit the model\n",
    "print(\"Training XGBoost model with pipeline...\")\n",
    "xgb_grid.fit(X_train, y_train)\n",
    "\n",
    "# best model and evaluation\n",
    "print(\"\\nBest Parameters for XGBoost:\")\n",
    "print(xgb_grid.best_params_)\n",
    "print(\"\\nBest F1-Weighted Score:\")\n",
    "print(xgb_grid.best_score_)\n",
    "\n",
    "# evaluate on the test set\n",
    "y_pred_test = xgb_grid.best_estimator_.predict(X_test)\n",
    "print(\"\\nClassification Report on Test Set:\")\n",
    "print(classification_report(y_test, y_pred_test))\n"
   ]
  },
  {
   "cell_type": "code",
   "execution_count": 62,
   "metadata": {
    "colab": {
     "base_uri": "https://localhost:8080/"
    },
    "executionInfo": {
     "elapsed": 379,
     "status": "ok",
     "timestamp": 1734710698534,
     "user": {
      "displayName": "ELENA FALCONE",
      "userId": "14742012211587439268"
     },
     "user_tz": -60
    },
    "id": "BvUakkEKaJ6w",
    "outputId": "dd35fc9f-1862-4361-bd52-b84304af1ff9"
   },
   "outputs": [
    {
     "name": "stdout",
     "output_type": "stream",
     "text": [
      "Predicted Class: sun\n",
      "Predicted Probabilities: [0.04166952 0.00911666 0.04366316 0.00660159 0.8989491 ]\n"
     ]
    }
   ],
   "source": [
    "# inference Code for Custom Input\n",
    "def predict_weather(xgb_model, custom_input):\n",
    "    # convert custom input to DataFrame\n",
    "    input_df = pd.DataFrame([custom_input])\n",
    "\n",
    "    # ensure column names match training data\n",
    "    required_columns = ['date', 'precipitation', 'temp_max', 'temp_min', 'wind']\n",
    "    input_df = input_df[required_columns]  # Match required column order\n",
    "\n",
    "    # perform prediction\n",
    "    predicted_class = xgb_model.predict(input_df)[0]\n",
    "    predicted_probabilities = xgb_model.predict_proba(input_df)[0]\n",
    "\n",
    "    return predicted_class, predicted_probabilities\n",
    "\n",
    "# example custom input\n",
    "custom_input = {\n",
    "    'precipitation': 0.0,  # No precipitation\n",
    "    'wind': 2.0,           # Low wind\n",
    "    'temp_max': 40,      # Moderate temperature\n",
    "    'temp_min': 35,       # Close to max temperature\n",
    "    'date': 0              # Placeholder for date\n",
    "}\n",
    "\n",
    "# use the best estimator from GridSearchCV (replace xgb_grid.best_estimator_ with your model)\n",
    "xgb_best_model = xgb_grid.best_estimator_\n",
    "\n",
    "# predict using the custom input\n",
    "predicted_class, predicted_probabilities = predict_weather(xgb_best_model, custom_input)\n",
    "\n",
    "# output the results\n",
    "weather_conditions = {\n",
    "    0: \"drizzle\",\n",
    "    1: \"fog\",\n",
    "    2: \"rain\",\n",
    "    3: \"snow\",\n",
    "    4: \"sun\"\n",
    "}\n",
    "\n",
    "predicted_weather = weather_conditions.get(predicted_class, \"Unknown\")\n",
    "print(f\"Predicted Class: {predicted_weather}\")\n",
    "print(f\"Predicted Probabilities: {predicted_probabilities}\")\n"
   ]
  }
 ],
 "metadata": {
  "accelerator": "GPU",
  "colab": {
   "gpuType": "T4",
   "provenance": []
  },
  "kernelspec": {
   "display_name": "Python 3",
   "name": "python3"
  },
  "language_info": {
   "name": "python"
  }
 },
 "nbformat": 4,
 "nbformat_minor": 0
}
